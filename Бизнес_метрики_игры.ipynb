{
 "cells": [
  {
   "cell_type": "markdown",
   "id": "d45d63a3",
   "metadata": {
    "toc": true
   },
   "source": [
    "<h1>Содержание<span class=\"tocSkip\"></span></h1>\n",
    "<div class=\"toc\"><ul class=\"toc-item\"><li><span><a href=\"#Тестовое-на-продуктового-аналитика\" data-toc-modified-id=\"Тестовое-на-продуктового-аналитика-1\">Тестовое на продуктового аналитика</a></span><ul class=\"toc-item\"><li><span><a href=\"#Часть-1\" data-toc-modified-id=\"Часть-1-1.1\">Часть 1</a></span></li><li><span><a href=\"#Часть-2\" data-toc-modified-id=\"Часть-2-1.2\">Часть 2</a></span></li></ul></li><li><span><a href=\"#1.-Предобработка-данных\" data-toc-modified-id=\"1.-Предобработка-данных-2\">1. Предобработка данных</a></span></li><li><span><a href=\"#2.-Исследовательский-анализ-данных\" data-toc-modified-id=\"2.-Исследовательский-анализ-данных-3\">2. Исследовательский анализ данных</a></span><ul class=\"toc-item\"><li><span><a href=\"#2.1.-Retention-и-время,-которое-ученики-проводят-в-приложении.\" data-toc-modified-id=\"2.1.-Retention-и-время,-которое-ученики-проводят-в-приложении.-3.1\">2.1. Retention и время, которое ученики проводят в приложении.</a></span><ul class=\"toc-item\"><li><span><a href=\"#2.1.1.-Retentatiom-rate\" data-toc-modified-id=\"2.1.1.-Retentatiom-rate-3.1.1\">2.1.1. Retentatiom rate</a></span></li><li><span><a href=\"#2.1.2.-Расчет-DAU\" data-toc-modified-id=\"2.1.2.-Расчет-DAU-3.1.2\">2.1.2. Расчет DAU</a></span></li><li><span><a href=\"#2.1.3.-Средняя-продолжительность-сессии-(Average-Session-Length)\" data-toc-modified-id=\"2.1.3.-Средняя-продолжительность-сессии-(Average-Session-Length)-3.1.3\">2.1.3. Средняя продолжительность сессии (Average Session Length)</a></span></li><li><span><a href=\"#2.1.3.-Среднее-количество-сессий-на-пользователя-в-день(Session-per-user-(Daily))\" data-toc-modified-id=\"2.1.3.-Среднее-количество-сессий-на-пользователя-в-день(Session-per-user-(Daily))-3.1.4\">2.1.3. Среднее количество сессий на пользователя в день(Session per user (Daily))</a></span></li><li><span><a href=\"#2.1.4.-Среднее-время,-проведенное-пользователем-в-приложении-в-день-(Time-per-user-(Daily))\" data-toc-modified-id=\"2.1.4.-Среднее-время,-проведенное-пользователем-в-приложении-в-день-(Time-per-user-(Daily))-3.1.5\">2.1.4. Среднее время, проведенное пользователем в приложении в день (Time per user (Daily))</a></span></li><li><span><a href=\"#2.1.5.-Среднее-время-на-пользователя,-проведенное-в-приложении,-за-весь-период\" data-toc-modified-id=\"2.1.5.-Среднее-время-на-пользователя,-проведенное-в-приложении,-за-весь-период-3.1.6\">2.1.5. Среднее время на пользователя, проведенное в приложении, за весь период</a></span></li><li><span><a href=\"#2.1.6.--Изменение-продолжительности-сессий-в-зависимости-от-лайфтайма\" data-toc-modified-id=\"2.1.6.--Изменение-продолжительности-сессий-в-зависимости-от-лайфтайма-3.1.7\">2.1.6.  Изменение продолжительности сессий в зависимости от лайфтайма</a></span></li><li><span><a href=\"#Выводы:\" data-toc-modified-id=\"Выводы:-3.1.8\">Выводы:</a></span></li></ul></li><li><span><a href=\"#2.2.-Как-ученики-переходят-с-уровня-на-уровень.\" data-toc-modified-id=\"2.2.-Как-ученики-переходят-с-уровня-на-уровень.-3.2\">2.2. Как ученики переходят с уровня на уровень.</a></span><ul class=\"toc-item\"><li><span><a href=\"#2.2.1.-Распределение-по-уровням\" data-toc-modified-id=\"2.2.1.-Распределение-по-уровням-3.2.1\">2.2.1. Распределение по уровням</a></span></li><li><span><a href=\"#2.2.2.-Время-перехода-на-новые-уровни\" data-toc-modified-id=\"2.2.2.-Время-перехода-на-новые-уровни-3.2.2\">2.2.2. Время перехода на новые уровни</a></span></li><li><span><a href=\"#2.2.3.-Время,-занимаемое-на-прохождение-уровней\" data-toc-modified-id=\"2.2.3.-Время,-занимаемое-на-прохождение-уровней-3.2.3\">2.2.3. Время, занимаемое на прохождение уровней</a></span></li><li><span><a href=\"#Выводы:\" data-toc-modified-id=\"Выводы:-3.2.4\">Выводы:</a></span></li></ul></li><li><span><a href=\"#2.3.-Метрики-монетизации-для-всей-когорты\" data-toc-modified-id=\"2.3.-Метрики-монетизации-для-всей-когорты-3.3\">2.3. Метрики монетизации для всей когорты</a></span><ul class=\"toc-item\"><li><span><a href=\"#2.3.1.-Paying-users-и-Paying-Share\" data-toc-modified-id=\"2.3.1.-Paying-users-и-Paying-Share-3.3.1\">2.3.1. Paying users и Paying Share</a></span></li><li><span><a href=\"#2.3.2.-Средний-чек-(Average-price)-и-среднее-кол-во-покупок-на-пользователя-(Number-of-Purchases-Per-User)\" data-toc-modified-id=\"2.3.2.-Средний-чек-(Average-price)-и-среднее-кол-во-покупок-на-пользователя-(Number-of-Purchases-Per-User)-3.3.2\">2.3.2. Средний чек (Average price) и среднее кол-во покупок на пользователя (Number of Purchases Per User)</a></span></li><li><span><a href=\"#2.3.3.-Выручка-от-покупок-(Revenue,-ARPU,-ARPPU)\" data-toc-modified-id=\"2.3.3.-Выручка-от-покупок-(Revenue,-ARPU,-ARPPU)-3.3.3\">2.3.3. Выручка от покупок (Revenue, ARPU, ARPPU)</a></span></li><li><span><a href=\"#Выводы:\" data-toc-modified-id=\"Выводы:-3.3.4\">Выводы:</a></span></li></ul></li><li><span><a href=\"#2.4.-Где-ученики-совершают-больше-всего-платежей?\" data-toc-modified-id=\"2.4.-Где-ученики-совершают-больше-всего-платежей?-3.4\">2.4. Где ученики совершают больше всего платежей?</a></span><ul class=\"toc-item\"><li><span><a href=\"#2.4.1.-Платежи-по-лайфтайму\" data-toc-modified-id=\"2.4.1.-Платежи-по-лайфтайму-3.4.1\">2.4.1. Платежи по лайфтайму</a></span></li><li><span><a href=\"#2.4.2.-Платежи-по-уровням\" data-toc-modified-id=\"2.4.2.-Платежи-по-уровням-3.4.2\">2.4.2. Платежи по уровням</a></span></li></ul></li><li><span><a href=\"#2.5.-Где-ученики-совершают-первые-платежи?\" data-toc-modified-id=\"2.5.-Где-ученики-совершают-первые-платежи?-3.5\">2.5. Где ученики совершают первые платежи?</a></span><ul class=\"toc-item\"><li><span><a href=\"#Выводы:\" data-toc-modified-id=\"Выводы:-3.5.1\">Выводы:</a></span></li></ul></li><li><span><a href=\"#Общие-выводы:\" data-toc-modified-id=\"Общие-выводы:-3.6\">Общие выводы:</a></span></li></ul></li></ul></div>"
   ]
  },
  {
   "cell_type": "markdown",
   "id": "c18f958a",
   "metadata": {},
   "source": [
    "В базе представлены данные об активности пользователей в обучающем игровом приложении. \n",
    "\n",
    "**Цель проекта:** рассчитать бизнес-метрики приложения и выбрать наиболее значимые, дать рекомендации, какие данные могут собираться еще.  \n",
    "\n",
    "**Задачи:**\n",
    "\n",
    "- рассчитать Retention и время, которое ученики проводят в приложении.\n",
    "\n",
    "- проанализировать как ученики переходят с уровня на уровень.\n",
    "\n",
    "- рассчитать метрики монетизации для всей когорты\n",
    "\n",
    "- определить, где ученики совершают больше всего платежей\n",
    "\n",
    "- определить, где ученики совершают первые платежи."
   ]
  },
  {
   "cell_type": "markdown",
   "id": "22939262",
   "metadata": {},
   "source": [
    "## 1. Предобработка данных"
   ]
  },
  {
   "cell_type": "code",
   "execution_count": 1,
   "id": "1a05e3ce",
   "metadata": {},
   "outputs": [],
   "source": [
    "# загружаем библиотеки\n",
    "import pandas as pd\n",
    "from datetime import datetime, date, time\n",
    "import matplotlib.pyplot as plt\n",
    "import seaborn as sns\n",
    "import numpy as np\n",
    "import warnings\n",
    "warnings.filterwarnings(\"ignore\")"
   ]
  },
  {
   "cell_type": "code",
   "execution_count": 2,
   "id": "132982c1",
   "metadata": {},
   "outputs": [],
   "source": [
    "#загружаем данные\n",
    "path = 'E://ЯП//test//'\n",
    "\n",
    "users = pd.read_csv(path + 'users.csv', index_col = 0)\n",
    "sessions = pd.read_csv(path + 'sessions.csv', index_col = 0)\n",
    "payments = pd.read_csv(path + 'payments.csv', index_col = 0)\n",
    "levels = pd.read_csv(path + 'levels.csv', index_col = 0)"
   ]
  },
  {
   "cell_type": "code",
   "execution_count": 3,
   "id": "880ff97b",
   "metadata": {},
   "outputs": [],
   "source": [
    "#создадим единую функцию, чтобы проверить таблицы\n",
    "def info(df):\n",
    "    print(df.head())\n",
    "    print(df.info())\n",
    "    print(\"Количество дубликатов:\", df.duplicated().sum())"
   ]
  },
  {
   "cell_type": "markdown",
   "id": "58b452ed",
   "metadata": {},
   "source": [
    "**1.1. Таблица users**"
   ]
  },
  {
   "cell_type": "code",
   "execution_count": 4,
   "id": "f0539b6d",
   "metadata": {},
   "outputs": [
    {
     "name": "stdout",
     "output_type": "stream",
     "text": [
      "   user_id                 reg_time\n",
      "0   439127  2023-05-16 15:47:56.024\n",
      "1   646681  2023-05-16 16:32:35.495\n",
      "2    35136  2023-05-16 16:50:14.571\n",
      "3   933255  2023-05-16 03:28:56.790\n",
      "4    59440  2023-05-16 06:53:22.412\n",
      "<class 'pandas.core.frame.DataFrame'>\n",
      "Int64Index: 31114 entries, 0 to 31114\n",
      "Data columns (total 2 columns):\n",
      " #   Column    Non-Null Count  Dtype \n",
      "---  ------    --------------  ----- \n",
      " 0   user_id   31114 non-null  int64 \n",
      " 1   reg_time  31114 non-null  object\n",
      "dtypes: int64(1), object(1)\n",
      "memory usage: 729.2+ KB\n",
      "None\n",
      "Количество дубликатов: 0\n"
     ]
    }
   ],
   "source": [
    "info(users)"
   ]
  },
  {
   "cell_type": "code",
   "execution_count": 5,
   "id": "6dc49575",
   "metadata": {},
   "outputs": [
    {
     "name": "stdout",
     "output_type": "stream",
     "text": [
      "Минимальная дата: 2023-05-11 02:01:36.784 максимальная дата: 2023-05-21 01:58:09.459\n"
     ]
    }
   ],
   "source": [
    "print('Минимальная дата:', users['reg_time'].min(), 'максимальная дата:', users['reg_time'].max())"
   ]
  },
  {
   "cell_type": "markdown",
   "id": "ce16ab5c",
   "metadata": {},
   "source": [
    "**В таблице содержится информация об 31 1000 пользователей, которые регистрировались с 11 по 21 мая 2023 года.** В таблице нет пропусков и дубликатов, но необходимо изменить тип данных для времени регистрации и выделить отдельный столбец с датой регистрации."
   ]
  },
  {
   "cell_type": "code",
   "execution_count": 6,
   "id": "2d0f852c",
   "metadata": {},
   "outputs": [],
   "source": [
    "users['reg_time'] = pd.to_datetime(users['reg_time'])\n",
    "users['reg_day'] = users['reg_time'].dt.date"
   ]
  },
  {
   "cell_type": "markdown",
   "id": "2950d3ed",
   "metadata": {},
   "source": [
    "**1.2.Таблица sessions**"
   ]
  },
  {
   "cell_type": "code",
   "execution_count": 7,
   "id": "ad639604",
   "metadata": {},
   "outputs": [
    {
     "name": "stdout",
     "output_type": "stream",
     "text": [
      "   user_id           close_time            open_time\n",
      "0   875013  2023-05-16 05:17:59  2023-05-16 05:06:09\n",
      "1   138278  2023-05-16 06:48:24  2023-05-16 06:47:34\n",
      "2   138278  2023-05-18 01:44:40  2023-05-18 01:07:58\n",
      "3   138278  2023-05-18 05:02:58  2023-05-18 04:51:06\n",
      "4   138278  2023-05-19 05:58:32  2023-05-19 05:46:19\n",
      "<class 'pandas.core.frame.DataFrame'>\n",
      "Int64Index: 358004 entries, 0 to 358033\n",
      "Data columns (total 3 columns):\n",
      " #   Column      Non-Null Count   Dtype \n",
      "---  ------      --------------   ----- \n",
      " 0   user_id     358004 non-null  int64 \n",
      " 1   close_time  358004 non-null  object\n",
      " 2   open_time   358004 non-null  object\n",
      "dtypes: int64(1), object(2)\n",
      "memory usage: 10.9+ MB\n",
      "None\n",
      "Количество дубликатов: 0\n"
     ]
    }
   ],
   "source": [
    "info(sessions)"
   ]
  },
  {
   "cell_type": "code",
   "execution_count": 8,
   "id": "a8ea2c5e",
   "metadata": {},
   "outputs": [
    {
     "name": "stdout",
     "output_type": "stream",
     "text": [
      "Минимальная дата: 2023-05-11 02:01:37 максимальная дата: 2023-05-30 17:09:26\n"
     ]
    }
   ],
   "source": [
    "print('Минимальная дата:', sessions['open_time'].min(), 'максимальная дата:', sessions['open_time'].max())"
   ]
  },
  {
   "cell_type": "markdown",
   "id": "179ab816",
   "metadata": {},
   "source": [
    "В таблице сессий **инфорация за период с 11 по 30 мая 2023 года.** В таблице нет пропусков и дубликатов, изменим тип данных для даты и добавим столбец с датой без времени для удобства."
   ]
  },
  {
   "cell_type": "code",
   "execution_count": 9,
   "id": "26e1c1de",
   "metadata": {},
   "outputs": [],
   "source": [
    "sessions['open_time'] = pd.to_datetime(sessions['open_time'])\n",
    "sessions['close_time'] = pd.to_datetime(sessions['close_time'])\n",
    "sessions['open_dt'] = pd.to_datetime(sessions['open_time']).dt.date"
   ]
  },
  {
   "cell_type": "markdown",
   "id": "3c566545",
   "metadata": {},
   "source": [
    "**1.3.Таблица payments**"
   ]
  },
  {
   "cell_type": "code",
   "execution_count": 10,
   "id": "de66427b",
   "metadata": {},
   "outputs": [
    {
     "name": "stdout",
     "output_type": "stream",
     "text": [
      "   user_id                 pay_time       amt\n",
      "1   107907  2023-05-29 17:08:18.890  0.400218\n",
      "2   510991  2023-05-20 16:55:01.216  0.199608\n",
      "3   294837  2023-05-19 01:41:55.970  0.199608\n",
      "4   644287  2023-05-20 03:01:53.697  0.199608\n",
      "5   673424  2023-05-20 03:33:36.918  0.099302\n",
      "<class 'pandas.core.frame.DataFrame'>\n",
      "Int64Index: 699 entries, 1 to 699\n",
      "Data columns (total 3 columns):\n",
      " #   Column    Non-Null Count  Dtype  \n",
      "---  ------    --------------  -----  \n",
      " 0   user_id   699 non-null    int64  \n",
      " 1   pay_time  699 non-null    object \n",
      " 2   amt       699 non-null    float64\n",
      "dtypes: float64(1), int64(1), object(1)\n",
      "memory usage: 21.8+ KB\n",
      "None\n",
      "Количество дубликатов: 0\n"
     ]
    }
   ],
   "source": [
    "info(payments)"
   ]
  },
  {
   "cell_type": "code",
   "execution_count": 11,
   "id": "752ff0d7",
   "metadata": {},
   "outputs": [
    {
     "data": {
      "text/plain": [
       "312"
      ]
     },
     "execution_count": 11,
     "metadata": {},
     "output_type": "execute_result"
    }
   ],
   "source": [
    "len(payments['user_id'].unique())"
   ]
  },
  {
   "cell_type": "markdown",
   "id": "f4db930d",
   "metadata": {},
   "source": [
    "В таблица содержится **информация о покупках для 312 уникальных пользователей,** нет пропусков и дубликатов, необходимо изменить формат даты платежа."
   ]
  },
  {
   "cell_type": "code",
   "execution_count": 12,
   "id": "60b35922",
   "metadata": {},
   "outputs": [],
   "source": [
    "payments['pay_time'] = pd.to_datetime(payments['pay_time'])"
   ]
  },
  {
   "cell_type": "markdown",
   "id": "68377148",
   "metadata": {},
   "source": [
    "**1.4.Таблица levels**"
   ]
  },
  {
   "cell_type": "code",
   "execution_count": 13,
   "id": "51b9b503",
   "metadata": {},
   "outputs": [
    {
     "name": "stdout",
     "output_type": "stream",
     "text": [
      "   user_id                        time  level\n",
      "0   105194  2023-05-16 08:22:12.799003    2.0\n",
      "1   105194  2023-05-16 08:26:42.405003    3.0\n",
      "2   105194  2023-05-16 08:27:12.760003    4.0\n",
      "3   991914  2023-05-16 09:06:38.315003    2.0\n",
      "4   991914  2023-05-16 09:09:39.832003    3.0\n",
      "<class 'pandas.core.frame.DataFrame'>\n",
      "Int64Index: 130623 entries, 0 to 130629\n",
      "Data columns (total 3 columns):\n",
      " #   Column   Non-Null Count   Dtype  \n",
      "---  ------   --------------   -----  \n",
      " 0   user_id  130623 non-null  int64  \n",
      " 1   time     130623 non-null  object \n",
      " 2   level    130623 non-null  float64\n",
      "dtypes: float64(1), int64(1), object(1)\n",
      "memory usage: 4.0+ MB\n",
      "None\n",
      "Количество дубликатов: 0\n"
     ]
    }
   ],
   "source": [
    "info(levels)"
   ]
  },
  {
   "cell_type": "markdown",
   "id": "3c6a4d14",
   "metadata": {},
   "source": [
    "В таблице с уровнями нет дубликатов и пропусков, необходимо изменить тип данных для двух столбцов."
   ]
  },
  {
   "cell_type": "code",
   "execution_count": 14,
   "id": "4133a81a",
   "metadata": {},
   "outputs": [],
   "source": [
    "levels['level'] = levels['level'].astype('int')\n",
    "levels['time'] = pd.to_datetime(levels['time'])"
   ]
  },
  {
   "cell_type": "markdown",
   "id": "06bcaa86",
   "metadata": {},
   "source": [
    "### 2.1. Retention и время, которое ученики проводят в приложении."
   ]
  },
  {
   "cell_type": "markdown",
   "id": "b1756668",
   "metadata": {},
   "source": [
    "#### 2.1.1. Retentatiom rate"
   ]
  },
  {
   "cell_type": "code",
   "execution_count": 15,
   "id": "931a7fad",
   "metadata": {},
   "outputs": [],
   "source": [
    "#добавим к таблице users информацию платящий пользователь или нет\n",
    "\n",
    "payers = payments['user_id'].unique()\n",
    "users['payer'] = users['user_id'].apply(lambda x: True if x in payers else False)"
   ]
  },
  {
   "cell_type": "code",
   "execution_count": 16,
   "id": "e5a14950",
   "metadata": {},
   "outputs": [],
   "source": [
    "#объединим таблицу c пользователями и сессиями \n",
    "result = users[['user_id', 'reg_day', 'payer']].merge(sessions[['user_id', 'open_dt']], on = 'user_id', how = 'left')\n",
    "\n",
    "#определим лайфтам для каждого пользователя\n",
    "result['lifetime'] = (result['open_dt'] - result['reg_day']).dt.days"
   ]
  },
  {
   "cell_type": "code",
   "execution_count": 17,
   "id": "614a6b15",
   "metadata": {},
   "outputs": [
    {
     "data": {
      "text/html": [
       "<div>\n",
       "<style scoped>\n",
       "    .dataframe tbody tr th:only-of-type {\n",
       "        vertical-align: middle;\n",
       "    }\n",
       "\n",
       "    .dataframe tbody tr th {\n",
       "        vertical-align: top;\n",
       "    }\n",
       "\n",
       "    .dataframe thead th {\n",
       "        text-align: right;\n",
       "    }\n",
       "</style>\n",
       "<table border=\"1\" class=\"dataframe\">\n",
       "  <thead>\n",
       "    <tr style=\"text-align: right;\">\n",
       "      <th></th>\n",
       "      <th>user_id</th>\n",
       "      <th>reg_day</th>\n",
       "      <th>payer</th>\n",
       "      <th>open_dt</th>\n",
       "      <th>lifetime</th>\n",
       "    </tr>\n",
       "  </thead>\n",
       "  <tbody>\n",
       "    <tr>\n",
       "      <th>0</th>\n",
       "      <td>439127</td>\n",
       "      <td>2023-05-16</td>\n",
       "      <td>False</td>\n",
       "      <td>2023-05-16</td>\n",
       "      <td>0.0</td>\n",
       "    </tr>\n",
       "    <tr>\n",
       "      <th>1</th>\n",
       "      <td>439127</td>\n",
       "      <td>2023-05-16</td>\n",
       "      <td>False</td>\n",
       "      <td>2023-05-17</td>\n",
       "      <td>1.0</td>\n",
       "    </tr>\n",
       "    <tr>\n",
       "      <th>2</th>\n",
       "      <td>439127</td>\n",
       "      <td>2023-05-16</td>\n",
       "      <td>False</td>\n",
       "      <td>2023-05-17</td>\n",
       "      <td>1.0</td>\n",
       "    </tr>\n",
       "    <tr>\n",
       "      <th>3</th>\n",
       "      <td>439127</td>\n",
       "      <td>2023-05-16</td>\n",
       "      <td>False</td>\n",
       "      <td>2023-05-17</td>\n",
       "      <td>1.0</td>\n",
       "    </tr>\n",
       "    <tr>\n",
       "      <th>4</th>\n",
       "      <td>439127</td>\n",
       "      <td>2023-05-16</td>\n",
       "      <td>False</td>\n",
       "      <td>2023-05-17</td>\n",
       "      <td>1.0</td>\n",
       "    </tr>\n",
       "  </tbody>\n",
       "</table>\n",
       "</div>"
      ],
      "text/plain": [
       "   user_id     reg_day  payer     open_dt  lifetime\n",
       "0   439127  2023-05-16  False  2023-05-16       0.0\n",
       "1   439127  2023-05-16  False  2023-05-17       1.0\n",
       "2   439127  2023-05-16  False  2023-05-17       1.0\n",
       "3   439127  2023-05-16  False  2023-05-17       1.0\n",
       "4   439127  2023-05-16  False  2023-05-17       1.0"
      ]
     },
     "execution_count": 17,
     "metadata": {},
     "output_type": "execute_result"
    }
   ],
   "source": [
    "result.head()"
   ]
  },
  {
   "cell_type": "code",
   "execution_count": 18,
   "id": "eacddc15",
   "metadata": {},
   "outputs": [
    {
     "data": {
      "text/plain": [
       "array([ 0.,  1.,  2.,  3.,  4.,  5.,  6.,  7.,  8.,  9., 10., nan, -1.])"
      ]
     },
     "execution_count": 18,
     "metadata": {},
     "output_type": "execute_result"
    }
   ],
   "source": [
    "#посмотрим значения лайфтама \n",
    "result['lifetime'].unique()"
   ]
  },
  {
   "cell_type": "markdown",
   "id": "2338e2c9",
   "metadata": {},
   "source": [
    "Несмотря на то, что в таблице с сессиями содержится информация за период с 11 по 30 мая, для всех пользователей есть **фиксированное конечное число лайфтайма - 10 дней. Возможно, это обучающий курс/модуль, рассчитанный на 10 дней**.\n",
    "\n",
    "Также надо проверить, почему получились пропуски и значение \"-1\"."
   ]
  },
  {
   "cell_type": "code",
   "execution_count": 19,
   "id": "c75520d2",
   "metadata": {},
   "outputs": [
    {
     "name": "stdout",
     "output_type": "stream",
     "text": [
      "       user_id     reg_day  payer     open_dt  lifetime\n",
      "28167   622739  2023-05-17  False  2023-05-16      -1.0\n"
     ]
    },
    {
     "data": {
      "text/html": [
       "<div>\n",
       "<style scoped>\n",
       "    .dataframe tbody tr th:only-of-type {\n",
       "        vertical-align: middle;\n",
       "    }\n",
       "\n",
       "    .dataframe tbody tr th {\n",
       "        vertical-align: top;\n",
       "    }\n",
       "\n",
       "    .dataframe thead th {\n",
       "        text-align: right;\n",
       "    }\n",
       "</style>\n",
       "<table border=\"1\" class=\"dataframe\">\n",
       "  <thead>\n",
       "    <tr style=\"text-align: right;\">\n",
       "      <th></th>\n",
       "      <th>user_id</th>\n",
       "      <th>reg_day</th>\n",
       "      <th>payer</th>\n",
       "      <th>open_dt</th>\n",
       "      <th>lifetime</th>\n",
       "    </tr>\n",
       "  </thead>\n",
       "  <tbody>\n",
       "    <tr>\n",
       "      <th>21809</th>\n",
       "      <td>629905</td>\n",
       "      <td>2023-05-16</td>\n",
       "      <td>False</td>\n",
       "      <td>NaN</td>\n",
       "      <td>NaN</td>\n",
       "    </tr>\n",
       "    <tr>\n",
       "      <th>50698</th>\n",
       "      <td>661898</td>\n",
       "      <td>2023-05-18</td>\n",
       "      <td>False</td>\n",
       "      <td>NaN</td>\n",
       "      <td>NaN</td>\n",
       "    </tr>\n",
       "    <tr>\n",
       "      <th>81098</th>\n",
       "      <td>815414</td>\n",
       "      <td>2023-05-17</td>\n",
       "      <td>False</td>\n",
       "      <td>NaN</td>\n",
       "      <td>NaN</td>\n",
       "    </tr>\n",
       "    <tr>\n",
       "      <th>124449</th>\n",
       "      <td>117206</td>\n",
       "      <td>2023-05-17</td>\n",
       "      <td>False</td>\n",
       "      <td>NaN</td>\n",
       "      <td>NaN</td>\n",
       "    </tr>\n",
       "    <tr>\n",
       "      <th>125443</th>\n",
       "      <td>637623</td>\n",
       "      <td>2023-05-17</td>\n",
       "      <td>False</td>\n",
       "      <td>NaN</td>\n",
       "      <td>NaN</td>\n",
       "    </tr>\n",
       "  </tbody>\n",
       "</table>\n",
       "</div>"
      ],
      "text/plain": [
       "        user_id     reg_day  payer open_dt  lifetime\n",
       "21809    629905  2023-05-16  False     NaN       NaN\n",
       "50698    661898  2023-05-18  False     NaN       NaN\n",
       "81098    815414  2023-05-17  False     NaN       NaN\n",
       "124449   117206  2023-05-17  False     NaN       NaN\n",
       "125443   637623  2023-05-17  False     NaN       NaN"
      ]
     },
     "execution_count": 19,
     "metadata": {},
     "output_type": "execute_result"
    }
   ],
   "source": [
    "print(result.query('lifetime < 0'))\n",
    "\n",
    "result.query('open_dt != open_dt').head()"
   ]
  },
  {
   "cell_type": "markdown",
   "id": "57375c7e",
   "metadata": {},
   "source": [
    "Так как объединение таблиц происходило по left join в таблицу записались все значения user_id из таблицы users, но часть из них не была в таблице sessions, то есть пользователи не начинали ни одной сессии, при этом были зарегистрированы. **Возможно, регистрацию можно пройти не только в приложении.** \n",
    "\n",
    "Также есть 1 пользователь, который зарегистрровался позже, чем началась первая сессия. "
   ]
  },
  {
   "cell_type": "code",
   "execution_count": 20,
   "id": "fba3b0c1",
   "metadata": {},
   "outputs": [],
   "source": [
    "# строим таблицу для retention\n",
    "\n",
    "retention = (\n",
    "    result.pivot_table(index = ['payer'], columns = 'lifetime', values = 'user_id', aggfunc='nunique',\\\n",
    "    margins=True, margins_name='Average'))\n",
    "\n",
    "retention = retention.drop([-1.0, 'Average'], axis = 1)\n",
    "retention.columns.name=None\n",
    "\n",
    "retention = retention.div(retention[0.0], axis = 0)"
   ]
  },
  {
   "cell_type": "code",
   "execution_count": 21,
   "id": "f0100280",
   "metadata": {},
   "outputs": [
    {
     "data": {
      "image/png": "[encoded data removed]",
      "text/plain": [
       "<Figure size 1080x432 with 2 Axes>"
      ]
     },
     "metadata": {
      "needs_background": "light"
     },
     "output_type": "display_data"
    }
   ],
   "source": [
    "# для наглядности построим тепловую карту\n",
    "\n",
    "plt.figure(figsize=(15, 6)) \n",
    "sns.heatmap(\n",
    "    retention.drop(columns=[0.0]),  \n",
    "    annot=True, \n",
    "    fmt='.0%', \n",
    ")\n",
    "plt.title('Тепловая карта удержания')  \n",
    "plt.show()"
   ]
  },
  {
   "cell_type": "markdown",
   "id": "81725155",
   "metadata": {},
   "source": [
    "**Платящие и неплатящие пользователи различаются по удержанию**.\n",
    "\n",
    "Но большая часть пользователей не является покупателями и **средний процент удержания на второй день составляет - 42%, к концу первой недели - 20%, на 10-й день этот показатель равен 5%.** Можно сказать, что это хороший уровень для мобильного приложения. \n",
    "\n",
    "По тепловой карте видно, что на 10-й день происходит резкое снижение в retention у платящих и неплатящих. **Возможно, курс проходят за 9 - 10 дней**."
   ]
  },
  {
   "cell_type": "markdown",
   "id": "45b9e9d5",
   "metadata": {},
   "source": [
    "#### 2.1.2. Расчет DAU"
   ]
  },
  {
   "cell_type": "code",
   "execution_count": 22,
   "id": "34c0e116",
   "metadata": {},
   "outputs": [
    {
     "data": {
      "image/png": "[encoded data removed]",
      "text/plain": [
       "<Figure size 504x360 with 1 Axes>"
      ]
     },
     "metadata": {
      "needs_background": "light"
     },
     "output_type": "display_data"
    }
   ],
   "source": [
    "plt.figure(figsize = (7, 5))\n",
    "sessions.groupby('open_dt')['user_id'].nunique().plot()\n",
    "users.groupby('reg_day')['user_id'].count().plot()\n",
    "plt.xticks(rotation = 45)\n",
    "plt.title('Количество регистраций и активных пользователей по дням')\n",
    "plt.xlabel('Дата')\n",
    "plt.legend(['Active Users', 'Registrations'])\n",
    "plt.grid();"
   ]
  },
  {
   "cell_type": "markdown",
   "id": "0da91279",
   "metadata": {},
   "source": [
    "Максимальное количество пользователей в сутки достигаем 12 000 посетителей. Графики имеют схожую форму."
   ]
  },
  {
   "cell_type": "markdown",
   "id": "e6f3541f",
   "metadata": {},
   "source": [
    "#### 2.1.3. Средняя продолжительность сессии (Average Session Length)"
   ]
  },
  {
   "cell_type": "code",
   "execution_count": 23,
   "id": "a154aaed",
   "metadata": {},
   "outputs": [
    {
     "name": "stdout",
     "output_type": "stream",
     "text": [
      "Средняя продолжительность сесиии, мин.: 12.510351653426595\n",
      "Медиана продолжительности сесиии, мин.: 6.983333333333333\n"
     ]
    }
   ],
   "source": [
    "# добавим столбец с продолжительностью сессии в минутах\n",
    "\n",
    "sessions['duration'] = (sessions['close_time'] - sessions['open_time']).dt.total_seconds()/60\n",
    "\n",
    "print('Средняя продолжительность сесиии, мин.:', sessions['duration'].mean())\n",
    "print('Медиана продолжительности сесиии, мин.:', sessions['duration'].median())"
   ]
  },
  {
   "cell_type": "markdown",
   "id": "6d3944fc",
   "metadata": {},
   "source": [
    "Среднее и медиана различаются почти в 2 раза, что может говорить о сильных выбросах в продолжительности сессий."
   ]
  },
  {
   "cell_type": "code",
   "execution_count": 24,
   "id": "bce01ebf",
   "metadata": {},
   "outputs": [
    {
     "data": {
      "image/png": "[encoded data removed]",
      "text/plain": [
       "<Figure size 432x288 with 1 Axes>"
      ]
     },
     "metadata": {
      "needs_background": "light"
     },
     "output_type": "display_data"
    }
   ],
   "source": [
    "sessions['duration'].hist()\n",
    "plt.title('Длительность сессий, мин.');"
   ]
  },
  {
   "cell_type": "markdown",
   "id": "0b7ae0db",
   "metadata": {},
   "source": [
    "По гистограмме видно, что большая часть значений длительности до 160 минут, но аномальные значения сильно искажают график, поэтому возьмем верхнее значение меньше 99 перцентиля.\n",
    "\n",
    "**Возможно, такие большие значения длительности сессии (около 24ч.) возникают из-за работы приложения в фоновом режиме**, поэтому в данном случае не понятно, можно ли доверять значениям в этой таблице (времени открытию и закрытию сессий)."
   ]
  },
  {
   "cell_type": "code",
   "execution_count": 25,
   "id": "95274d32",
   "metadata": {},
   "outputs": [
    {
     "data": {
      "image/png": "[encoded data removed]",
      "text/plain": [
       "<Figure size 432x288 with 1 Axes>"
      ]
     },
     "metadata": {
      "needs_background": "light"
     },
     "output_type": "display_data"
    }
   ],
   "source": [
    "sessions.query('duration <= duration.quantile(.99)')['duration'].hist()\n",
    "plt.title('Длительность сессий, мин.');"
   ]
  },
  {
   "cell_type": "markdown",
   "id": "d0de3a6b",
   "metadata": {},
   "source": [
    "**Большая часть сессий длится менее 10 минут**, медиана около 7 минут. Можно сказать, что это неплохой показатель даже для обучающего приложения, но необходимо больше информации о действиях в приложении. Может быть пользователей действительно интересует приложение и поэтому они находятся там какое-то время, а возможно, долго пытаются разобраться."
   ]
  },
  {
   "cell_type": "markdown",
   "id": "3f8419bf",
   "metadata": {},
   "source": [
    "#### 2.1.3. Среднее количество сессий на пользователя в день(Session per user (Daily))"
   ]
  },
  {
   "cell_type": "code",
   "execution_count": 26,
   "id": "3632acc5",
   "metadata": {},
   "outputs": [
    {
     "data": {
      "image/png": "[encoded data removed]",
      "text/plain": [
       "<Figure size 432x288 with 1 Axes>"
      ]
     },
     "metadata": {
      "needs_background": "light"
     },
     "output_type": "display_data"
    }
   ],
   "source": [
    "# расчитаем, сколько сессий в день проводят пользователи \n",
    "\n",
    "plt.hist(sessions.query('duration <= duration.quantile(.99)')\n",
    "         .groupby(['user_id', 'open_dt'])['duration'].count(), edgecolor='k', alpha=0.65, bins = 20)\n",
    "plt.axvline(sessions.query('duration <= duration.quantile(.99)')\n",
    "            .groupby(['user_id', 'open_dt'])['duration'].count().median(), color='k', linestyle='dashed', linewidth=2)\n",
    "plt.axvline(sessions.query('duration <= duration.quantile(.99)')\n",
    "            .groupby(['user_id', 'open_dt'])['duration'].count().mean(), color='r', linestyle='dashed', linewidth=1)\n",
    "plt.grid()\n",
    "plt.title('Количество сессий в день');"
   ]
  },
  {
   "cell_type": "markdown",
   "id": "6da1408d",
   "metadata": {},
   "source": [
    "Количество сессий в день колеблется от 1 до 30, **медиана составляет - 2 сессии в день, среднее количество доходит до 4.** Можно считать, что это неплохой показатель."
   ]
  },
  {
   "cell_type": "markdown",
   "id": "7c9dad64",
   "metadata": {},
   "source": [
    "#### 2.1.4. Среднее время, проведенное пользователем в приложении в день (Time per user (Daily))"
   ]
  },
  {
   "cell_type": "code",
   "execution_count": 27,
   "id": "161ce7b6",
   "metadata": {},
   "outputs": [
    {
     "name": "stdout",
     "output_type": "stream",
     "text": [
      "Среднее время в приложении в день, мин. 39.355905698823285\n",
      "Медиана времени в приложении в день, мин. 23.75\n"
     ]
    }
   ],
   "source": [
    "print('Среднее время в приложении в день, мин.', sessions.query('duration <= duration.quantile(.99)')\\\n",
    "      .groupby(['user_id', 'open_dt'])['duration'].sum().mean())\n",
    "print('Медиана времени в приложении в день, мин.', sessions.query('duration <= duration.quantile(.99)')\\\n",
    "      .groupby(['user_id', 'open_dt'])['duration'].sum().median())"
   ]
  },
  {
   "cell_type": "markdown",
   "id": "fa827156",
   "metadata": {},
   "source": [
    "#### 2.1.5. Среднее время на пользователя, проведенное в приложении, за весь период"
   ]
  },
  {
   "cell_type": "code",
   "execution_count": 28,
   "id": "5bbdaf5f",
   "metadata": {},
   "outputs": [
    {
     "data": {
      "image/png": "[encoded data removed]",
      "text/plain": [
       "<Figure size 432x288 with 1 Axes>"
      ]
     },
     "metadata": {
      "needs_background": "light"
     },
     "output_type": "display_data"
    }
   ],
   "source": [
    "# построим график для суммарного времени, проведенного в приложении для каждого пользователя \n",
    "\n",
    "plt.hist(sessions.query('duration <= duration.quantile(.99)')\n",
    "         .groupby('user_id')['duration'].sum(), edgecolor='k', alpha=0.65, bins = 20)\n",
    "plt.axvline(sessions.query('duration <= duration.quantile(.99)')\n",
    "            .groupby('user_id')['duration'].sum().median(), color='k', linestyle='dashed', linewidth=1)\n",
    "plt.grid()\n",
    "plt.title('Медианное время в приложении за весь период')\n",
    "plt.xlabel('Время, мин.');"
   ]
  },
  {
   "cell_type": "code",
   "execution_count": 29,
   "id": "1782c8cd",
   "metadata": {},
   "outputs": [
    {
     "data": {
      "text/plain": [
       "25.866666666666667"
      ]
     },
     "execution_count": 29,
     "metadata": {},
     "output_type": "execute_result"
    }
   ],
   "source": [
    "sessions.query('duration <= duration.quantile(.99)').groupby('user_id')['duration'].sum().median()"
   ]
  },
  {
   "cell_type": "markdown",
   "id": "d5cdcd38",
   "metadata": {},
   "source": [
    "**В среднем большая часть пользователей проводит 25 минут в приложении суммарно (лайфтайм до 10 дней).** Значения могут доходить до 3000 минут, что достаточно правдоподобно для обучающего приложения (за рассматриваемый лайфтайм - 10 дней)."
   ]
  },
  {
   "cell_type": "markdown",
   "id": "cd1d26b5",
   "metadata": {},
   "source": [
    "#### 2.1.6.  Изменение продолжительности сессий в зависимости от лайфтайма"
   ]
  },
  {
   "cell_type": "code",
   "execution_count": 30,
   "id": "34595d7a",
   "metadata": {},
   "outputs": [],
   "source": [
    "# создадим таблицу, где будут значения лайфтайма для каждого пользователя и суммарная продолжительность сессий на этот день \n",
    "\n",
    "dur_lifetime = result.drop_duplicates(keep = 'first').merge(sessions.query('duration <= duration.quantile(.99)')\n",
    "                                                     .groupby(['user_id', 'open_dt'])['duration']\n",
    "                                                     .sum().to_frame().reset_index(),  \\\n",
    "                                             on = ['user_id', 'open_dt'], how = 'left')"
   ]
  },
  {
   "cell_type": "code",
   "execution_count": 31,
   "id": "7a68648a",
   "metadata": {},
   "outputs": [
    {
     "data": {
      "image/png": "[encoded data removed]",
      "text/plain": [
       "<Figure size 504x288 with 1 Axes>"
      ]
     },
     "metadata": {
      "needs_background": "light"
     },
     "output_type": "display_data"
    }
   ],
   "source": [
    "# построим график изменения продолжительности времени в день для платящих и неплатящих\n",
    "\n",
    "plt.figure(figsize = [7, 4])\n",
    "dur_lifetime.query('payer == False and lifetime >= 0').groupby('lifetime')['duration'].median().plot()\n",
    "dur_lifetime.query('payer == True and lifetime >= 0').groupby('lifetime')['duration'].median().plot()\n",
    "plt.legend(['False', 'True'])\n",
    "plt.title('Изменение времени в приложениии в день в зависимости от лайфатайма')\n",
    "plt.ylabel('Продолжительность, мин.')\n",
    "plt.grid();"
   ]
  },
  {
   "cell_type": "markdown",
   "id": "04ce4790",
   "metadata": {},
   "source": [
    "График учитывает только тех пользователей, которые доходили до определеннего лайфтайма. \n",
    "\n",
    "На графике видно, что **платящие пользователи проводят в среднем больше времени в приложении,** в особенности в первые дни. К 10-му дню для двух групп пользователей происходит спад продолжительности сессий. \n",
    "\n",
    "При это в первые 2-3 дня лайфтайма эти пользователи ведут себя по-разному: неплатящие пользователи увеличивают время нахождения в приложении, для платящих, наоборот, до 3 дня лайфтайма происходит постепенное уменьшение времени в приложении."
   ]
  },
  {
   "cell_type": "markdown",
   "id": "623fa7a8",
   "metadata": {},
   "source": [
    "#### Выводы: \n",
    "\n",
    "1. Вне зависимости от даты регистрации пользователя есть **фиксированное число дней лайфтайма - 10 дней.** Предполагается, что это один обучающий курс или модуль.\n",
    "\n",
    "2. Платящие и неплатящие пользователи различаются по удержанию. Но большая часть пользователей не является покупателями и **процент удержания на второй день составляет - 42%, к концу первой недели - 20%, на 10-й день этот показатель равен 5%.** \n",
    "\n",
    "3. **Средняя продолжительность сесиии составляет 12 минут, медиана - 7 минут.** Данные по времени сессии имеют выбросы (до 23 часов) и не понятно, как именно они рассчитываются, возможно, учитывается фоновые режим приложения. Необходимо больше информации о действиях в приложении. \n",
    "\n",
    "4. **Количество сессий в день** колеблется от 1 до 30, медиана составляет - **2 сессии в день**, среднее количество доходит до 4.\n",
    "\n",
    "5. **Платящие пользователи проводят в среднем больше времени в приложении**, в особенности в первые дни. К 10-му дню для двух групп пользователей происходит спад продолжительности сессий. При это в первые 2-3 дня лайфтайма эти пользователи ведут себя по-разному: неплатящие пользователи увеличивают время нахождения в приложении (**в среднем до 23 минут в день**), для платящих, наоборот, до 3 дня лайфтайма происходит постепенное уменьшение времени в приложении."
   ]
  },
  {
   "cell_type": "markdown",
   "id": "a94ab1c1",
   "metadata": {},
   "source": [
    "### 2.2. Как ученики переходят с уровня на уровень."
   ]
  },
  {
   "cell_type": "markdown",
   "id": "caab6830",
   "metadata": {},
   "source": [
    "#### 2.2.1. Распределение по уровням"
   ]
  },
  {
   "cell_type": "code",
   "execution_count": 32,
   "id": "0f18d169",
   "metadata": {},
   "outputs": [
    {
     "data": {
      "image/png": "[encoded data removed]",
      "text/plain": [
       "<Figure size 432x288 with 1 Axes>"
      ]
     },
     "metadata": {
      "needs_background": "light"
     },
     "output_type": "display_data"
    }
   ],
   "source": [
    "# построим гистограмму распределения по уровням\n",
    "\n",
    "plt.hist(levels['level'], bins = 20)\n",
    "plt.xticks(ticks = levels['level'].unique())\n",
    "plt.grid()\n",
    "plt.title('Распределение по уровням');"
   ]
  },
  {
   "cell_type": "markdown",
   "id": "9882e4b0",
   "metadata": {},
   "source": [
    "**Количество пользователей постепенно убывает с повышением уровня,** основная часть пользователь не доходит до уровня выше 10."
   ]
  },
  {
   "cell_type": "code",
   "execution_count": 33,
   "id": "c5de31a6",
   "metadata": {},
   "outputs": [
    {
     "data": {
      "image/png": "[encoded data removed]",
      "text/plain": [
       "<Figure size 504x360 with 1 Axes>"
      ]
     },
     "metadata": {
      "needs_background": "light"
     },
     "output_type": "display_data"
    }
   ],
   "source": [
    "# посмотрим какой процент от платящих и неплатящих переходит по уровням \n",
    "# добавим информацию о покупке в столбец с уровнями \n",
    "levels['payer'] = levels['user_id'].apply(lambda x: True if x in payers else False)\n",
    "\n",
    "# график перехода по уровням по платящим и неплатящим \n",
    "\n",
    "plt.figure(figsize = (7, 5))\n",
    "(levels.query('payer == False').groupby('level')['user_id'].count()/\\\n",
    "     (levels.query('payer == False')['user_id'].nunique()) * 100).plot()\n",
    "(levels.query('payer == True').groupby('level')['user_id'].count()/\\\n",
    "     (levels.query('payer == True')['user_id'].nunique()) * 100).plot()\n",
    "plt.title('Процент прохождения уровней для платящих и неплатящих')\n",
    "plt.xlabel('Уровень')\n",
    "plt.xticks(ticks = levels['level'].unique())\n",
    "plt.legend(['False', 'True'])\n",
    "plt.grid();"
   ]
  },
  {
   "cell_type": "markdown",
   "id": "a0149fd1",
   "metadata": {},
   "source": [
    "По графику видно, что процент прохождения уровней для неплатящих пользователей постепенно убывает, для платящих характерно резкое понижение после 8 уровня. **Возможно, переход с этого уровня достаточно сложный или неинтересный.** \n",
    "\n",
    "**В среднем процент прохождения уровней выше у платящих пользователей,** что может быть вызвано тем, что им больше нравится приложение или тем, что для дальнейшего прохождения удобнее всего покупать тарифы. \n",
    "\n",
    "***Предположение: пользователи переходят на уровни выше, правильно выполняя задания.*** Число ошибок или проверок ограничено и их можно покупать."
   ]
  },
  {
   "cell_type": "markdown",
   "id": "7122daf7",
   "metadata": {},
   "source": [
    "#### 2.2.2. Время перехода на новые уровни"
   ]
  },
  {
   "cell_type": "markdown",
   "id": "520ef2e5",
   "metadata": {},
   "source": [
    "Так как в таблице с уровнями содержится время получения уровня, попробуем рассчитать сколько в среднем занимает переход от одного уровня к другому."
   ]
  },
  {
   "cell_type": "code",
   "execution_count": 34,
   "id": "ef6de187",
   "metadata": {},
   "outputs": [],
   "source": [
    "# для удобства изменим таблицу с уровнями \n",
    "levels_table = levels.pivot_table(index = 'user_id', columns = 'level', values = 'time').reset_index()\n",
    "# добавим разделение на платящих и неплатящих\n",
    "levels_table['payer'] = levels_table['user_id'].apply(lambda x: True if x in payers else False)\n",
    "\n",
    "# добавим столбцы с разницей во времени между переходами на новые уровни \n",
    "for i in range(1, 20):\n",
    "    levels_table[f'{i+1} to {i+2}'] = (levels_table[(i+2)] - levels_table[(i+1)]).dt.total_seconds()/60\n",
    "    levels_table = levels_table.drop(columns = i + 1)\n",
    "    \n",
    "levels_table = levels_table.drop(columns = [21, 'user_id'])"
   ]
  },
  {
   "cell_type": "code",
   "execution_count": 35,
   "id": "24c40b23",
   "metadata": {},
   "outputs": [
    {
     "data": {
      "image/png": "[encoded data removed]",
      "text/plain": [
       "<Figure size 576x432 with 1 Axes>"
      ]
     },
     "metadata": {
      "needs_background": "light"
     },
     "output_type": "display_data"
    }
   ],
   "source": [
    "# построим график длительности переходом\n",
    "\n",
    "levels_table.groupby('payer').median().T.plot.bar(figsize = (8, 6))\n",
    "plt.xticks(rotation = 45)\n",
    "plt.grid()\n",
    "plt.title('Длительность (мин.) перехода на новый уровень')\n",
    "plt.xlabel('Переход с уровня');"
   ]
  },
  {
   "cell_type": "markdown",
   "id": "687bd5f7",
   "metadata": {},
   "source": [
    "**На графике видно, что платящие пользователи быстрее получают новые уровни.** Это может быть связано с тем, что они более заинтересованы в прохождении или тарифы, которые они покупают помогают быстрее пройти уровни. \n",
    "\n",
    "Здесь также резко выделяется **переход с 8 уровня на 9**, с которого начинается резкое увеличение времени перехода на следующие уровни. **Возможно, с этого уровня начинается усложнение заданий или увеличение их количества.** Также может быть меняется формат заданий: сначала тесты, которые быстро проходятся, затем письменные задания с более долгой проверкой.\n",
    "\n",
    "***Предположение: при совершении определенного количества ошибок доступ закрывается на какое-то время, платные тарифы помогают убрать эти временные ограничения.***"
   ]
  },
  {
   "cell_type": "markdown",
   "id": "b6f374a0",
   "metadata": {},
   "source": [
    "#### 2.2.3. Время, занимаемое на прохождение уровней"
   ]
  },
  {
   "cell_type": "code",
   "execution_count": 36,
   "id": "25752557",
   "metadata": {},
   "outputs": [],
   "source": [
    "# добавим в таблицу с сессиями общее время, проведенное в приложении\n",
    "sessions['cum_duration'] = sessions.query('duration <= duration.quantile(.99)').groupby('user_id')['duration'].cumsum()\n",
    "\n",
    "# создадим новую таблицу с продолжительностью времени в приложении и достигнутым уровнем\n",
    "time_to_level = (sessions.groupby('user_id', as_index = False)['cum_duration'].max())\\\n",
    "                         .merge(levels.groupby('user_id')['level'].max(), how = 'inner', on = 'user_id')"
   ]
  },
  {
   "cell_type": "code",
   "execution_count": 37,
   "id": "120ba0fe",
   "metadata": {},
   "outputs": [],
   "source": [
    "# добавим столбец с меткой платящий пользователь или нет\n",
    "time_to_level['payer'] = time_to_level['user_id'].apply(lambda x: True if x in payers else False)"
   ]
  },
  {
   "cell_type": "code",
   "execution_count": 38,
   "id": "0a63af92",
   "metadata": {},
   "outputs": [
    {
     "data": {
      "image/png": "[encoded data removed]",
      "text/plain": [
       "<Figure size 576x432 with 1 Axes>"
      ]
     },
     "metadata": {
      "needs_background": "light"
     },
     "output_type": "display_data"
    }
   ],
   "source": [
    "# построим график достижения уровней для двух групп пользователей \n",
    "\n",
    "time_to_level.pivot_table(index = 'level', columns = 'payer', values = 'cum_duration', aggfunc = 'median')\\\n",
    ".plot(kind = 'bar', figsize = (8, 6))\n",
    "plt.title('Медианное время проведенное в приложении до достижения уровня')\n",
    "plt.xticks(rotation = 0)\n",
    "plt.xlabel('Уровень')\n",
    "plt.ylabel('Время, мин.')\n",
    "plt.grid();"
   ]
  },
  {
   "cell_type": "markdown",
   "id": "011cec9c",
   "metadata": {},
   "source": [
    "Для уровней начиная с 13 - 14 слишком мало данных, поэтому нельзя считать их репрезентативными. **По графику видно, что неплатящие пользователи тратят больше времени в приложении для достижения определенного уровня.**"
   ]
  },
  {
   "cell_type": "markdown",
   "id": "55056f6d",
   "metadata": {},
   "source": [
    "#### Выводы:\n",
    "\n",
    "1. Количество пользователей постепенно убывает с повышением уровня, **основная часть пользователь не доходит до уровня выше 10.**\n",
    "\n",
    "2. По графику прохождения уровней было выделено, что **процент прохождения уровней для неплатящих пользователей постепенно убывает, а для платящих характерно резкое понижение после 8 уровня.**\n",
    "\n",
    "3. В среднем процент прохождения уровней выше у платящих пользователей, что может быть вызвано тем, что им больше нравится приложение или тем, что для дальнейшего прохождения удобнее всего покупать тарифы.\n",
    "\n",
    "4. **Пользователи переходят с уровня на уровень, решая задания** (скорее всего тестового формата), до 7 уровня пользователи достаточно быстро получают новые уровни (до 10 минут), но **есть достаточное резкое увеличение во времени прохождения с 8 на 9 уровень (время достижения увеличивается до 1000 минут).** \n",
    "\n",
    "   Предположения: \n",
    "   - увеличивается сложность заданий и ограничивается число попыток (попытки можно докупать);\n",
    "   - между попытками увеличивается время (это время можно сокращать покупкой);\n",
    "   - меняется формат заданий, вместо автоматической проверки ручная (покупка сокращает время проверки)."
   ]
  },
  {
   "cell_type": "markdown",
   "id": "97b6f5b6",
   "metadata": {},
   "source": [
    "### 2.3. Метрики монетизации для всей когорты"
   ]
  },
  {
   "cell_type": "markdown",
   "id": "81340541",
   "metadata": {},
   "source": [
    "#### 2.3.1. Paying users и Paying Share"
   ]
  },
  {
   "cell_type": "code",
   "execution_count": 39,
   "id": "ff29ec12",
   "metadata": {},
   "outputs": [
    {
     "name": "stdout",
     "output_type": "stream",
     "text": [
      "Уникальное кол-во платящих пользователей: 312\n",
      "Paying Share: 1.004%\n"
     ]
    }
   ],
   "source": [
    "print('Уникальное кол-во платящих пользователей:', len(payments['user_id'].unique()))\n",
    "\n",
    "#рассчитаем долю как кол-во платящих пользователей на общее кол-во пользователей в приложении \n",
    "print('Paying Share: {:.3f}%'.format(payments['user_id'].nunique()/sessions['user_id'].nunique() * 100))"
   ]
  },
  {
   "cell_type": "markdown",
   "id": "820f9845",
   "metadata": {},
   "source": [
    "#### 2.3.2. Средний чек (Average price) и среднее кол-во покупок на пользователя (Number of Purchases Per User)"
   ]
  },
  {
   "cell_type": "code",
   "execution_count": 40,
   "id": "160c39f1",
   "metadata": {},
   "outputs": [
    {
     "name": "stdout",
     "output_type": "stream",
     "text": [
      "Средний чек: 0.72 y.e.\n"
     ]
    }
   ],
   "source": [
    "print('Средний чек:', round(payments['amt'].sum()/payments['amt'].count(),2), 'y.e.')"
   ]
  },
  {
   "cell_type": "code",
   "execution_count": 41,
   "id": "0419aab9",
   "metadata": {},
   "outputs": [
    {
     "data": {
      "text/plain": [
       "0.02"
      ]
     },
     "execution_count": 41,
     "metadata": {},
     "output_type": "execute_result"
    }
   ],
   "source": [
    "# количество покупок внутри приложения в среднем на одного пользователя\n",
    "\n",
    "round(payments['amt'].count()/len(sessions['user_id'].unique()), 2)"
   ]
  },
  {
   "cell_type": "code",
   "execution_count": 42,
   "id": "54158d9c",
   "metadata": {},
   "outputs": [
    {
     "data": {
      "image/png": "[encoded data removed]",
      "text/plain": [
       "<Figure size 432x288 with 1 Axes>"
      ]
     },
     "metadata": {
      "needs_background": "light"
     },
     "output_type": "display_data"
    }
   ],
   "source": [
    "#посмотрим, сколько всего плажетей чаще всего совершают покупатели\n",
    "\n",
    "payments.groupby('user_id')['amt'].count().hist()\n",
    "plt.title('Количество платежей на покупателя')\n",
    "plt.xlabel('Количество')\n",
    "plt.ylabel('Частота');"
   ]
  },
  {
   "cell_type": "markdown",
   "id": "90f0026f",
   "metadata": {},
   "source": [
    "На гистограмме видны выбросы до 10 - 25 платежей (в дальнейшем можно отдельно сегментировать этих пользователей), но **основная часть покупателей совершает от 1 до 3-х платежей.**"
   ]
  },
  {
   "cell_type": "markdown",
   "id": "dd89081f",
   "metadata": {},
   "source": [
    "#### 2.3.3. Выручка от покупок (Revenue, ARPU, ARPPU)"
   ]
  },
  {
   "cell_type": "code",
   "execution_count": 43,
   "id": "cb4a8cff",
   "metadata": {},
   "outputs": [
    {
     "name": "stdout",
     "output_type": "stream",
     "text": [
      "Revenue 501.4063511450382 y.e.\n",
      "ARPU: 0.016 y.e.\n",
      "ARPPU: 1.607 y.e.\n"
     ]
    }
   ],
   "source": [
    "print('Revenue', payments['amt'].sum(), 'y.e.')\n",
    "\n",
    "print('ARPU:', round(payments['amt'].sum()/len(sessions['user_id'].unique()), 3), 'y.e.')\n",
    "\n",
    "print('ARPPU:', round(payments['amt'].sum()/len(payments['user_id'].unique()), 3), 'y.e.')"
   ]
  },
  {
   "cell_type": "code",
   "execution_count": 44,
   "id": "f7f12e85",
   "metadata": {},
   "outputs": [
    {
     "data": {
      "text/plain": [
       "array([ 0.40021832,  0.19960763,  0.09930229,  1.00205038,  1.5035771 ,\n",
       "        3.00815725,  2.00410076, 10.0295313 ,  5.01426412,  7.01936794])"
      ]
     },
     "execution_count": 44,
     "metadata": {},
     "output_type": "execute_result"
    }
   ],
   "source": [
    "# рассмотрим, какие тарифы бывают и какой из них самый частый\n",
    "payments['amt'].unique()"
   ]
  },
  {
   "cell_type": "code",
   "execution_count": 45,
   "id": "dc93063d",
   "metadata": {},
   "outputs": [
    {
     "data": {
      "image/png": "[encoded data removed]",
      "text/plain": [
       "<Figure size 432x288 with 1 Axes>"
      ]
     },
     "metadata": {
      "needs_background": "light"
     },
     "output_type": "display_data"
    }
   ],
   "source": [
    "# для удобства сократим платежи до 2-х знаков после запятой\n",
    "\n",
    "payments['amt'] = payments['amt'].floordiv(0.01).div(100)\n",
    "\n",
    "# посмотрим, какие платежи встречаются чаще всего \n",
    "\n",
    "payments['amt'].value_counts(normalize = True).plot(kind = 'bar', grid = True)\n",
    "plt.title('Распределение платежей по частоте')\n",
    "plt.title('Размер платежа')\n",
    "plt.xticks(rotation = 45);"
   ]
  },
  {
   "cell_type": "markdown",
   "id": "c37663bc",
   "metadata": {},
   "source": [
    "Наиболее популярными являются \"тарифы\" - 0.4, 0.19, 1.5, при этом **около 45% платежей составляет - 0.4**. \n",
    "\n",
    "Самый дешевый \"тариф\" (0.09) не является особо популярным. Возможно, в топ-3 представлены наиболее выгодные условия по соотношению цен и услуг. "
   ]
  },
  {
   "cell_type": "code",
   "execution_count": 46,
   "id": "95af6e9d",
   "metadata": {},
   "outputs": [
    {
     "data": {
      "image/png": "[encoded data removed]",
      "text/plain": [
       "<Figure size 432x288 with 1 Axes>"
      ]
     },
     "metadata": {
      "needs_background": "light"
     },
     "output_type": "display_data"
    }
   ],
   "source": [
    "# посмотрим, сколько суммарно приносит каждый пользователь (LTV)\n",
    "\n",
    "payments.groupby('user_id')['amt'].sum().hist();\n",
    "plt.title('Сумма у.е. на покупателя')\n",
    "plt.xlabel('Сумма у.е.')\n",
    "plt.ylabel('Частота');"
   ]
  },
  {
   "cell_type": "code",
   "execution_count": 47,
   "id": "8f575336",
   "metadata": {},
   "outputs": [
    {
     "data": {
      "text/plain": [
       "0.4"
      ]
     },
     "execution_count": 47,
     "metadata": {},
     "output_type": "execute_result"
    }
   ],
   "source": [
    "payments.groupby('user_id')['amt'].sum().median()"
   ]
  },
  {
   "cell_type": "markdown",
   "id": "713160ac",
   "metadata": {},
   "source": [
    "На гистограмме есть выбросы до 50 у.е., возможно, это определенный сегмент покупателей. **Большая часть тратит от 0.09 до 5 у.е.**, то есть совершает одну покупку с платежом - 0.4 у.е.. \n",
    "\n",
    "Как уже было сказано выше, **возможно, в тариф входит определенное число попыток в случае ошибки или платные тарифы помогают быстрее проходить уровни.**"
   ]
  },
  {
   "cell_type": "markdown",
   "id": "d21597af",
   "metadata": {},
   "source": [
    "#### Выводы:\n",
    "\n",
    "1. **Paying Share составляет 1%,** что является достаточно неплохим показателем для приложений.\n",
    "\n",
    "2. **Средний чек составляет 0.71 y.e. Основная часть покупателей совершает от 1 до 3-х платежей.**\n",
    "\n",
    "3. **В приложении есть 10 тарифных планов** от 0.09 у.е. до 10.02. Наиболее частый из них - 0.4. **Выручка** за рассматриваемый платежный период (с 12.05.2023 по 30.05.2023) **составила 498.82 y.e.** \n",
    "\n",
    "4. **ARPU составил 0.016 y.e., ARPPU - 1.599 y.e.** ARPU ниже стоимости самого дешёвого тарифа, что может говорить о том, что пользователям не особо нравится продукт или цены на тарифы достаточно высокие."
   ]
  },
  {
   "cell_type": "markdown",
   "id": "4b5b3189",
   "metadata": {},
   "source": [
    "### 2.4. Где ученики совершают больше всего платежей?"
   ]
  },
  {
   "cell_type": "markdown",
   "id": "f07687fb",
   "metadata": {},
   "source": [
    "#### 2.4.1. Платежи по лайфтайму"
   ]
  },
  {
   "cell_type": "code",
   "execution_count": 48,
   "id": "58c765d1",
   "metadata": {},
   "outputs": [],
   "source": [
    "# выделим отдельно столбец с датой покупки\n",
    "payments['pay_dt'] = pd.to_datetime(payments['pay_time']).dt.date\n",
    "\n",
    "# соединим таблицы с датой регистрации и с датой покупки\n",
    "reg_pay = users[['user_id', 'reg_day']].merge(payments[['user_id', 'pay_dt']], how = 'inner', on = 'user_id')\n",
    "\n",
    "reg_pay['lifetime'] = (reg_pay['pay_dt'] - reg_pay['reg_day']).dt.days"
   ]
  },
  {
   "cell_type": "code",
   "execution_count": 49,
   "id": "8d29adb2",
   "metadata": {},
   "outputs": [
    {
     "data": {
      "image/png": "[encoded data removed]",
      "text/plain": [
       "<Figure size 432x288 with 1 Axes>"
      ]
     },
     "metadata": {
      "needs_background": "light"
     },
     "output_type": "display_data"
    }
   ],
   "source": [
    "# построим столбчатый график, где каждый день лайфтайма учитываются только уникальные пользователи\n",
    "\n",
    "(reg_pay.groupby('lifetime')['user_id'].nunique() /len(reg_pay['user_id'].unique())).plot(kind = 'bar')\n",
    "plt.title('Совершенные покупки по лайфтайму, в %')\n",
    "plt.xticks(rotation = 0);"
   ]
  },
  {
   "cell_type": "markdown",
   "id": "8c826261",
   "metadata": {},
   "source": [
    "**На графике видно, что более 50% платежей приходится на день регистрации и 1 день после нее.** Это может говорить о том, что пользователям сразу понравилось приложении и они совершили покупку в день регистрации. "
   ]
  },
  {
   "cell_type": "markdown",
   "id": "8d0dd371",
   "metadata": {},
   "source": [
    "#### 2.4.2. Платежи по уровням"
   ]
  },
  {
   "cell_type": "code",
   "execution_count": 50,
   "id": "b9593532",
   "metadata": {},
   "outputs": [],
   "source": [
    "# создадим таблицу с уровнями только для платящих пользователей \n",
    "level_payers = levels.query('user_id in @payers')\n",
    "\n",
    "# добавим столбец с временем перехода на следующий уровень \n",
    "\n",
    "level_payers['lead'] = level_payers.groupby('user_id')['time'].shift(-1)\n",
    "\n",
    "# объединим таблицу с уровнями платящих и платежами\n",
    "\n",
    "level_pay = (level_payers.merge(payments, on = 'user_id', how = 'inner')).query('time <= pay_time <= lead')"
   ]
  },
  {
   "cell_type": "code",
   "execution_count": 51,
   "id": "0d24a269",
   "metadata": {},
   "outputs": [
    {
     "data": {
      "text/html": [
       "<div>\n",
       "<style scoped>\n",
       "    .dataframe tbody tr th:only-of-type {\n",
       "        vertical-align: middle;\n",
       "    }\n",
       "\n",
       "    .dataframe tbody tr th {\n",
       "        vertical-align: top;\n",
       "    }\n",
       "\n",
       "    .dataframe thead th {\n",
       "        text-align: right;\n",
       "    }\n",
       "</style>\n",
       "<table border=\"1\" class=\"dataframe\">\n",
       "  <thead>\n",
       "    <tr style=\"text-align: right;\">\n",
       "      <th></th>\n",
       "      <th>user_id</th>\n",
       "      <th>time</th>\n",
       "      <th>level</th>\n",
       "      <th>payer</th>\n",
       "      <th>lead</th>\n",
       "      <th>pay_time</th>\n",
       "      <th>amt</th>\n",
       "      <th>pay_dt</th>\n",
       "    </tr>\n",
       "  </thead>\n",
       "  <tbody>\n",
       "    <tr>\n",
       "      <th>4</th>\n",
       "      <td>398670</td>\n",
       "      <td>2023-05-16 08:04:34.968003</td>\n",
       "      <td>4</td>\n",
       "      <td>True</td>\n",
       "      <td>2023-05-17 01:11:44.718003</td>\n",
       "      <td>2023-05-17 01:10:20.897</td>\n",
       "      <td>0.19</td>\n",
       "      <td>2023-05-17</td>\n",
       "    </tr>\n",
       "    <tr>\n",
       "      <th>15</th>\n",
       "      <td>398670</td>\n",
       "      <td>2023-05-18 06:23:34.606004</td>\n",
       "      <td>9</td>\n",
       "      <td>True</td>\n",
       "      <td>2023-05-20 10:32:51.487004</td>\n",
       "      <td>2023-05-20 10:30:20.105</td>\n",
       "      <td>0.40</td>\n",
       "      <td>2023-05-20</td>\n",
       "    </tr>\n",
       "    <tr>\n",
       "      <th>36</th>\n",
       "      <td>340381</td>\n",
       "      <td>2023-05-18 14:06:57.047003</td>\n",
       "      <td>10</td>\n",
       "      <td>True</td>\n",
       "      <td>2023-05-19 14:17:54.304003</td>\n",
       "      <td>2023-05-19 14:13:05.071</td>\n",
       "      <td>0.19</td>\n",
       "      <td>2023-05-19</td>\n",
       "    </tr>\n",
       "    <tr>\n",
       "      <th>46</th>\n",
       "      <td>568761</td>\n",
       "      <td>2023-05-18 20:06:15.770005</td>\n",
       "      <td>8</td>\n",
       "      <td>True</td>\n",
       "      <td>2023-05-19 09:48:45.029003</td>\n",
       "      <td>2023-05-19 09:45:12.076</td>\n",
       "      <td>0.19</td>\n",
       "      <td>2023-05-19</td>\n",
       "    </tr>\n",
       "    <tr>\n",
       "      <th>68</th>\n",
       "      <td>815695</td>\n",
       "      <td>2023-05-16 16:46:51.572003</td>\n",
       "      <td>5</td>\n",
       "      <td>True</td>\n",
       "      <td>2023-05-17 11:07:25.491003</td>\n",
       "      <td>2023-05-17 11:06:18.460</td>\n",
       "      <td>0.40</td>\n",
       "      <td>2023-05-17</td>\n",
       "    </tr>\n",
       "  </tbody>\n",
       "</table>\n",
       "</div>"
      ],
      "text/plain": [
       "    user_id                       time  level  payer  \\\n",
       "4    398670 2023-05-16 08:04:34.968003      4   True   \n",
       "15   398670 2023-05-18 06:23:34.606004      9   True   \n",
       "36   340381 2023-05-18 14:06:57.047003     10   True   \n",
       "46   568761 2023-05-18 20:06:15.770005      8   True   \n",
       "68   815695 2023-05-16 16:46:51.572003      5   True   \n",
       "\n",
       "                         lead                pay_time   amt      pay_dt  \n",
       "4  2023-05-17 01:11:44.718003 2023-05-17 01:10:20.897  0.19  2023-05-17  \n",
       "15 2023-05-20 10:32:51.487004 2023-05-20 10:30:20.105  0.40  2023-05-20  \n",
       "36 2023-05-19 14:17:54.304003 2023-05-19 14:13:05.071  0.19  2023-05-19  \n",
       "46 2023-05-19 09:48:45.029003 2023-05-19 09:45:12.076  0.19  2023-05-19  \n",
       "68 2023-05-17 11:07:25.491003 2023-05-17 11:06:18.460  0.40  2023-05-17  "
      ]
     },
     "execution_count": 51,
     "metadata": {},
     "output_type": "execute_result"
    }
   ],
   "source": [
    "# полученная таблица показывает в момент какого перехода с уровня на уровень пользователи совершили покупку\n",
    "level_pay.head()"
   ]
  },
  {
   "cell_type": "code",
   "execution_count": 52,
   "id": "aecac182",
   "metadata": {},
   "outputs": [
    {
     "data": {
      "image/png": "[encoded data removed]",
      "text/plain": [
       "<Figure size 864x432 with 2 Axes>"
      ]
     },
     "metadata": {
      "needs_background": "light"
     },
     "output_type": "display_data"
    }
   ],
   "source": [
    "plt.figure(figsize = (12, 6))\n",
    "plt.subplot(1, 2, 1)\n",
    "\n",
    "\n",
    "level_pay.groupby('level')['amt'].count().plot(kind = 'bar', grid = True)\n",
    "plt.title('Количество плажетей по уровням')\n",
    "plt.xlabel('Уровень')\n",
    "plt.ylabel('Количество платежей')\n",
    "plt.xticks(rotation = 0)\n",
    "\n",
    "plt.subplot(1, 2, 2)\n",
    "\n",
    "level_pay.groupby('level')['amt'].sum().plot(kind = 'bar', grid = True)\n",
    "plt.title('Сумма платежей по уровням (у.е.)')\n",
    "plt.xlabel('Уровень')\n",
    "plt.ylabel('Сумма платежей (y.e.)')\n",
    "plt.xticks(rotation = 0);"
   ]
  },
  {
   "cell_type": "markdown",
   "id": "5e448681",
   "metadata": {},
   "source": [
    "Видно, что **большая часть платежей характерна для перехода с уровня 8 на уровень 9**, что согласуется с графиком по прохождению этого уровня. Также много с 9 на 10 и с 10 на 11.\n",
    "\n",
    "График с суммами платежей повторяет динамику с количеством платежей."
   ]
  },
  {
   "cell_type": "markdown",
   "id": "5751a246",
   "metadata": {},
   "source": [
    "**Выводы:**\n",
    "\n",
    "1. **Среди платящих пользователей большая часть совершает покупку в день регистрации и на следующий день.** С увеличением лайфтайма количество покупок снижается.\n",
    "\n",
    "2. **Чаще всего платежи совершают при переходе с 8 уровня на 9-й.** Скорее всего за первый и последующий день пользователи доходят до этого уровня, поэтому покупка происходит рано. "
   ]
  },
  {
   "cell_type": "markdown",
   "id": "6262342a",
   "metadata": {},
   "source": [
    "### 2.5. Где ученики совершают первые платежи?"
   ]
  },
  {
   "cell_type": "code",
   "execution_count": 53,
   "id": "df52b53a",
   "metadata": {},
   "outputs": [],
   "source": [
    "#создадим таблицу с датой и суммой первой покупки для пользователей\n",
    "\n",
    "first_pays = (\n",
    "    (payments.groupby('user_id')['pay_time'].min().to_frame())\n",
    "    .merge(payments, on = ['user_id', 'pay_time'], how = 'inner')\n",
    "    .rename(columns = {'pay_time': 'first_pay'}))"
   ]
  },
  {
   "cell_type": "code",
   "execution_count": 54,
   "id": "5aaad937",
   "metadata": {},
   "outputs": [
    {
     "data": {
      "text/html": [
       "<div>\n",
       "<style scoped>\n",
       "    .dataframe tbody tr th:only-of-type {\n",
       "        vertical-align: middle;\n",
       "    }\n",
       "\n",
       "    .dataframe tbody tr th {\n",
       "        vertical-align: top;\n",
       "    }\n",
       "\n",
       "    .dataframe thead th {\n",
       "        text-align: right;\n",
       "    }\n",
       "</style>\n",
       "<table border=\"1\" class=\"dataframe\">\n",
       "  <thead>\n",
       "    <tr style=\"text-align: right;\">\n",
       "      <th></th>\n",
       "      <th>user_id</th>\n",
       "      <th>first_pay</th>\n",
       "      <th>amt</th>\n",
       "      <th>pay_dt</th>\n",
       "    </tr>\n",
       "  </thead>\n",
       "  <tbody>\n",
       "    <tr>\n",
       "      <th>0</th>\n",
       "      <td>199</td>\n",
       "      <td>2023-05-22 20:32:31.620</td>\n",
       "      <td>0.19</td>\n",
       "      <td>2023-05-22</td>\n",
       "    </tr>\n",
       "    <tr>\n",
       "      <th>1</th>\n",
       "      <td>2586</td>\n",
       "      <td>2023-05-22 15:57:31.277</td>\n",
       "      <td>0.19</td>\n",
       "      <td>2023-05-22</td>\n",
       "    </tr>\n",
       "    <tr>\n",
       "      <th>2</th>\n",
       "      <td>4609</td>\n",
       "      <td>2023-05-20 19:43:45.878</td>\n",
       "      <td>0.09</td>\n",
       "      <td>2023-05-20</td>\n",
       "    </tr>\n",
       "    <tr>\n",
       "      <th>3</th>\n",
       "      <td>6500</td>\n",
       "      <td>2023-05-17 18:55:31.998</td>\n",
       "      <td>0.19</td>\n",
       "      <td>2023-05-17</td>\n",
       "    </tr>\n",
       "    <tr>\n",
       "      <th>4</th>\n",
       "      <td>6578</td>\n",
       "      <td>2023-05-19 17:40:44.244</td>\n",
       "      <td>0.19</td>\n",
       "      <td>2023-05-19</td>\n",
       "    </tr>\n",
       "  </tbody>\n",
       "</table>\n",
       "</div>"
      ],
      "text/plain": [
       "   user_id               first_pay   amt      pay_dt\n",
       "0      199 2023-05-22 20:32:31.620  0.19  2023-05-22\n",
       "1     2586 2023-05-22 15:57:31.277  0.19  2023-05-22\n",
       "2     4609 2023-05-20 19:43:45.878  0.09  2023-05-20\n",
       "3     6500 2023-05-17 18:55:31.998  0.19  2023-05-17\n",
       "4     6578 2023-05-19 17:40:44.244  0.19  2023-05-19"
      ]
     },
     "execution_count": 54,
     "metadata": {},
     "output_type": "execute_result"
    }
   ],
   "source": [
    "first_pays.head()"
   ]
  },
  {
   "cell_type": "code",
   "execution_count": 55,
   "id": "0d2d44db",
   "metadata": {},
   "outputs": [
    {
     "data": {
      "image/png": "[encoded data removed]",
      "text/plain": [
       "<Figure size 432x288 with 1 Axes>"
      ]
     },
     "metadata": {
      "needs_background": "light"
     },
     "output_type": "display_data"
    }
   ],
   "source": [
    "# объединим таблицы с уровнями и первые покупки, рассчитаем при переходе на какой уровень чаще всего совершаются первые покупки\n",
    "\n",
    "(levels.merge(first_pays, on = 'user_id', how = 'inner').query('first_pay <= time')\n",
    ".groupby('user_id')['level'].first()\n",
    ".value_counts().to_frame().plot(kind = 'bar'))\n",
    "plt.title('Частота первых платежей относительно уровней')\n",
    "plt.xticks(rotation = 0)\n",
    "plt.xlabel('Переход на () уровень');"
   ]
  },
  {
   "cell_type": "markdown",
   "id": "4c178d7e",
   "metadata": {},
   "source": [
    "**Самым популярным \"моментом\" для первой покупки является переход с 8 уровня на 9.** По построенному выше графику с затраченным временем на переход на новый уровень видно, что резкий скачок в затраченном времени происходит именно с 8 по 9 уровень. Возможно, с этого момента резко повышается сложность."
   ]
  },
  {
   "cell_type": "code",
   "execution_count": 56,
   "id": "383fbb20",
   "metadata": {},
   "outputs": [
    {
     "data": {
      "text/html": [
       "<div>\n",
       "<style scoped>\n",
       "    .dataframe tbody tr th:only-of-type {\n",
       "        vertical-align: middle;\n",
       "    }\n",
       "\n",
       "    .dataframe tbody tr th {\n",
       "        vertical-align: top;\n",
       "    }\n",
       "\n",
       "    .dataframe thead th {\n",
       "        text-align: right;\n",
       "    }\n",
       "</style>\n",
       "<table border=\"1\" class=\"dataframe\">\n",
       "  <thead>\n",
       "    <tr style=\"text-align: right;\">\n",
       "      <th></th>\n",
       "      <th>amt</th>\n",
       "    </tr>\n",
       "  </thead>\n",
       "  <tbody>\n",
       "    <tr>\n",
       "      <th>0.19</th>\n",
       "      <td>134</td>\n",
       "    </tr>\n",
       "    <tr>\n",
       "      <th>0.40</th>\n",
       "      <td>94</td>\n",
       "    </tr>\n",
       "    <tr>\n",
       "      <th>0.09</th>\n",
       "      <td>40</td>\n",
       "    </tr>\n",
       "    <tr>\n",
       "      <th>1.50</th>\n",
       "      <td>12</td>\n",
       "    </tr>\n",
       "    <tr>\n",
       "      <th>1.00</th>\n",
       "      <td>4</td>\n",
       "    </tr>\n",
       "    <tr>\n",
       "      <th>3.00</th>\n",
       "      <td>3</td>\n",
       "    </tr>\n",
       "    <tr>\n",
       "      <th>2.00</th>\n",
       "      <td>2</td>\n",
       "    </tr>\n",
       "    <tr>\n",
       "      <th>10.02</th>\n",
       "      <td>1</td>\n",
       "    </tr>\n",
       "  </tbody>\n",
       "</table>\n",
       "</div>"
      ],
      "text/plain": [
       "       amt\n",
       "0.19   134\n",
       "0.40    94\n",
       "0.09    40\n",
       "1.50    12\n",
       "1.00     4\n",
       "3.00     3\n",
       "2.00     2\n",
       "10.02    1"
      ]
     },
     "execution_count": 56,
     "metadata": {},
     "output_type": "execute_result"
    }
   ],
   "source": [
    "# посмотрим, какой самый частый первый платеж\n",
    "\n",
    "(levels.merge(first_pays, on = 'user_id', how = 'inner').query('first_pay <= time')\n",
    ".groupby('user_id')['amt'].first()\n",
    ".value_counts().to_frame())"
   ]
  },
  {
   "cell_type": "markdown",
   "id": "f144b0c9",
   "metadata": {},
   "source": [
    "Несмотря на то, что самым популярным \"тарифом\" является 0.4 у.е., **для первой покупки самым популряным является 0.199.** Это можно объяснить тем, что люди хотят попробовать, но за самую низкую цену возможно не выгодные условия, поэтому выбирают дешевый, но более оптимальный вариант."
   ]
  },
  {
   "cell_type": "markdown",
   "id": "ac614a69",
   "metadata": {},
   "source": [
    "#### Выводы:\n",
    "\n",
    "1. Платящие пользователи чаще всего совершают **первые платежи при переходе с 8 уровня на 9, с 5 на 6 и с 9 на 10.**\n",
    "\n",
    "2. **Самым популярным тарифом для первой покупки является - 0.199.**"
   ]
  },
  {
   "cell_type": "markdown",
   "id": "5b286900",
   "metadata": {},
   "source": [
    "### Общие выводы: \n",
    "\n",
    "1) Скорее всего рассматриваемый период в приложении включает 9-10 дневный курс или модуль. **Процент удержания на 2-й день составляет - 42%, к концу первой недели - 20%, на 10-й день этот показатель равен 5%.** Платящие и неплатящие пользователи различаются по удержанию, для них retentation rate выше. \n",
    "\n",
    "2) **Пользователь в среднем совершает от 2 до 4 сессий в день с продолжительностью сесиии в 7 минут.** За весь период (лайфтайм) пользователи суммарно находятся в приложении - 26 минут.  \n",
    "\n",
    "3) Пользователи переходят с уровня на уровень, решая задания. Основная часть не доходит выше 10 уровня. В среднем пользователи быстро проходят начальные уровни в течении первого дня, на моменте перехода с 8 на 9 уровень требуется больше времени на прохождение. \n",
    "\n",
    "4) Всего в приложении 10 тарифных планов, наиболее популярным является - 0.4. **Выручка за рассматриваемый платежный период (с 12.05.2023 по 30.05.2023) составила 498.82 y.e.** Средний чек составляет 0.71 y.e. \n",
    "\n",
    "Есть пользователи, которые совершают более 10 платежей за весь период, таких пользователей можно выделить в отдельный сегмент.\n",
    "\n",
    "5) **Доля платящих пользователей от всех составляет 1%,** что можно считать приемлимым показателем для приложения. **Первые платежи наиболее часто происходят именно на моменте перехода с 8 на 9 уровень (в нулевой или первый день лайфтайма)**, наиболее популярный тариф для первой покупки - 0.199.\n",
    "\n",
    "6) В первую очередь необходимо рассматривать **DAU**, как метрику жизнедеятельности приложения. Также необходимо отслеживать **Retention**, чтобы понимать, сколько пользователь \"живет\" в приложении, насколько он заинтересован. **Paying Share, Average Revenue Per User (ARPU) или Average Revenue Per Paying User (ARPPU)**, для анализа ценовых тарифов, анализа привлекаемых пользователей по источникам, сегментации пользователей. \n",
    "\n",
    "7) Если пользователи приходят из различных источников, то следует собирать информацию, откуда именно они приходят, для дальнейшего сравнения когорт. \n",
    "Также необходимо записывать целевые действия в приложении, чтобы в дальнейшем можно было рассчитать весь \"путь\" пользователя в приложении и чтобы точно определять, когда пользователь активно использует приложение. "
   ]
  }
 ],
 "metadata": {
  "kernelspec": {
   "display_name": "Python 3 (ipykernel)",
   "language": "python",
   "name": "python3"
  },
  "language_info": {
   "codemirror_mode": {
    "name": "ipython",
    "version": 3
   },
   "file_extension": ".py",
   "mimetype": "text/x-python",
   "name": "python",
   "nbconvert_exporter": "python",
   "pygments_lexer": "ipython3",
   "version": "3.9.7"
  },
  "toc": {
   "base_numbering": 1,
   "nav_menu": {},
   "number_sections": false,
   "sideBar": true,
   "skip_h1_title": true,
   "title_cell": "Содержание",
   "title_sidebar": "Contents",
   "toc_cell": true,
   "toc_position": {},
   "toc_section_display": true,
   "toc_window_display": false
  }
 },
 "nbformat": 4,
 "nbformat_minor": 5
}
